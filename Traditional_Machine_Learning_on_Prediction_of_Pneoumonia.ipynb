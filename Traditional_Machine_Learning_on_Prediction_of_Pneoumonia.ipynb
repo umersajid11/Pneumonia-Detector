{
  "nbformat": 4,
  "nbformat_minor": 0,
  "metadata": {
    "colab": {
      "provenance": [],
      "gpuType": "T4"
    },
    "kernelspec": {
      "name": "python3",
      "display_name": "Python 3"
    },
    "language_info": {
      "name": "python"
    },
    "accelerator": "GPU"
  },
  "cells": [
    {
      "cell_type": "code",
      "execution_count": 3,
      "metadata": {
        "colab": {
          "base_uri": "https://localhost:8080/"
        },
        "id": "pl1ItgB8OfW3",
        "outputId": "37d2494b-736b-44b8-ad64-62cba37dfded"
      },
      "outputs": [
        {
          "output_type": "stream",
          "name": "stdout",
          "text": [
            "Mounted at /content/drive\n"
          ]
        }
      ],
      "source": [
        "from google.colab import drive\n",
        "drive.mount('/content/drive')"
      ]
    },
    {
      "cell_type": "code",
      "source": [
        "import os\n",
        "import numpy as np\n",
        "import cv2\n",
        "from sklearn.model_selection import train_test_split\n",
        "from sklearn.preprocessing import StandardScaler\n",
        "import matplotlib.pyplot as plt\n",
        "\n",
        "# Path to dataset in Google Drive\n",
        "data_path = \"/content/drive/MyDrive/chest_xray\"\n",
        "\n",
        "# Categories (Classes)\n",
        "categories = [\"NORMAL\", \"PNEUMONIA\"]\n",
        "\n",
        "# Lists to store data\n",
        "X, y = [], []\n",
        "\n",
        "# Read images and preprocess\n",
        "for category in categories:\n",
        "    folder_path = os.path.join(data_path, \"train\", category)  # Change 'train' to 'test' for testing data\n",
        "    label = categories.index(category)  # Convert labels to 0 (Normal) & 1 (Pneumonia)\n",
        "\n",
        "    for file in os.listdir(folder_path):\n",
        "        img_path = os.path.join(folder_path, file)\n",
        "        img = cv2.imread(img_path, cv2.IMREAD_GRAYSCALE)  # Convert to grayscale\n",
        "        img = cv2.resize(img, (128, 128))  # Resize to 128x128\n",
        "        X.append(img)\n",
        "        y.append(label)\n",
        "\n",
        "# Convert to numpy arrays\n",
        "X = np.array(X) / 255.0  # Normalize pixel values\n",
        "y = np.array(y)\n",
        "\n",
        "# Flatten images (for ML models)\n",
        "X = X.reshape(len(X), -1)\n",
        "\n",
        "# Split into train & test\n",
        "X_train, X_test, y_train, y_test = train_test_split(X, y, test_size=0.2, random_state=42)"
      ],
      "metadata": {
        "id": "Ku7IeRGwRLgL"
      },
      "execution_count": 4,
      "outputs": []
    },
    {
      "cell_type": "markdown",
      "source": [
        "# ***`Logistic Regression`***"
      ],
      "metadata": {
        "id": "ZRRfGaIGUu0B"
      }
    },
    {
      "cell_type": "code",
      "source": [
        "from sklearn.linear_model import LogisticRegression\n",
        "from sklearn.metrics import accuracy_score, classification_report\n",
        "\n",
        "log_reg = LogisticRegression(max_iter=5000)\n",
        "log_reg.fit(X_train, y_train)\n",
        "\n",
        "# Predictions\n",
        "y_pred = log_reg.predict(X_test)\n",
        "\n",
        "# Evaluation\n",
        "print(\"Logistic Regression Accuracy:\", accuracy_score(y_test, y_pred))\n",
        "print(classification_report(y_test, y_pred))\n"
      ],
      "metadata": {
        "colab": {
          "base_uri": "https://localhost:8080/"
        },
        "id": "ZCdRj-HYUC9i",
        "outputId": "e43f8131-bb3c-4bbf-f82a-296a7ad8109a"
      },
      "execution_count": 5,
      "outputs": [
        {
          "output_type": "stream",
          "name": "stdout",
          "text": [
            "Logistic Regression Accuracy: 0.9588122605363985\n",
            "              precision    recall  f1-score   support\n",
            "\n",
            "           0       0.94      0.91      0.92       287\n",
            "           1       0.97      0.98      0.97       757\n",
            "\n",
            "    accuracy                           0.96      1044\n",
            "   macro avg       0.95      0.94      0.95      1044\n",
            "weighted avg       0.96      0.96      0.96      1044\n",
            "\n"
          ]
        }
      ]
    },
    {
      "cell_type": "markdown",
      "source": [
        "# ***`🌳 Decision Tree Classifier`***"
      ],
      "metadata": {
        "id": "KYExpSS7WRkK"
      }
    },
    {
      "cell_type": "code",
      "source": [
        "from sklearn.tree import DecisionTreeClassifier\n",
        "\n",
        "dt = DecisionTreeClassifier(max_depth=5)\n",
        "dt.fit(X_train, y_train)\n",
        "\n",
        "y_pred_dt = dt.predict(X_test)\n",
        "\n",
        "print(\"Decision Tree Accuracy:\", accuracy_score(y_test, y_pred_dt))\n",
        "print(classification_report(y_test, y_pred_dt))\n"
      ],
      "metadata": {
        "colab": {
          "base_uri": "https://localhost:8080/"
        },
        "id": "N0LtDlvRU0dq",
        "outputId": "244ab04b-31e4-41b6-e8f5-92372359d17b"
      },
      "execution_count": 6,
      "outputs": [
        {
          "output_type": "stream",
          "name": "stdout",
          "text": [
            "Decision Tree Accuracy: 0.8831417624521073\n",
            "              precision    recall  f1-score   support\n",
            "\n",
            "           0       0.82      0.74      0.78       287\n",
            "           1       0.90      0.94      0.92       757\n",
            "\n",
            "    accuracy                           0.88      1044\n",
            "   macro avg       0.86      0.84      0.85      1044\n",
            "weighted avg       0.88      0.88      0.88      1044\n",
            "\n"
          ]
        }
      ]
    },
    {
      "cell_type": "markdown",
      "source": [
        "# ***`🌲 Random Forest Classifier`***"
      ],
      "metadata": {
        "id": "afmLRNdUWcqb"
      }
    },
    {
      "cell_type": "code",
      "source": [
        "from sklearn.ensemble import RandomForestClassifier\n",
        "\n",
        "rf = RandomForestClassifier(n_estimators=100, max_depth=10, random_state=42)\n",
        "rf.fit(X_train, y_train)\n",
        "\n",
        "y_pred_rf = rf.predict(X_test)\n",
        "\n",
        "print(\"Random Forest Accuracy:\", accuracy_score(y_test, y_pred_rf))\n",
        "print(classification_report(y_test, y_pred_rf))\n"
      ],
      "metadata": {
        "colab": {
          "base_uri": "https://localhost:8080/"
        },
        "id": "acNZXst8WaH1",
        "outputId": "e6c15751-f6a2-4c2b-ed6a-e48f74bfc20d"
      },
      "execution_count": 7,
      "outputs": [
        {
          "output_type": "stream",
          "name": "stdout",
          "text": [
            "Random Forest Accuracy: 0.9521072796934866\n",
            "              precision    recall  f1-score   support\n",
            "\n",
            "           0       0.96      0.86      0.91       287\n",
            "           1       0.95      0.99      0.97       757\n",
            "\n",
            "    accuracy                           0.95      1044\n",
            "   macro avg       0.96      0.92      0.94      1044\n",
            "weighted avg       0.95      0.95      0.95      1044\n",
            "\n"
          ]
        }
      ]
    },
    {
      "cell_type": "markdown",
      "source": [
        "# ***`🔥 XGBoost Classifier`***"
      ],
      "metadata": {
        "id": "HqhhuubeXkrE"
      }
    },
    {
      "cell_type": "code",
      "source": [
        "from xgboost import XGBClassifier\n",
        "\n",
        "xgb = XGBClassifier(n_estimators=100, learning_rate=0.1, max_depth=6, use_label_encoder=False, eval_metric='logloss')\n",
        "xgb.fit(X_train, y_train)\n",
        "\n",
        "y_pred_xgb = xgb.predict(X_test)\n",
        "\n",
        "print(\"XGBoost Accuracy:\", accuracy_score(y_test, y_pred_xgb))\n",
        "print(classification_report(y_test, y_pred_xgb))\n"
      ],
      "metadata": {
        "colab": {
          "base_uri": "https://localhost:8080/"
        },
        "id": "kTuLc5LKXijL",
        "outputId": "f64a99f1-d49f-4ef2-88f5-03117dd2b004"
      },
      "execution_count": 8,
      "outputs": [
        {
          "output_type": "stream",
          "name": "stderr",
          "text": [
            "/usr/local/lib/python3.11/dist-packages/xgboost/core.py:158: UserWarning: [08:06:31] WARNING: /workspace/src/learner.cc:740: \n",
            "Parameters: { \"use_label_encoder\" } are not used.\n",
            "\n",
            "  warnings.warn(smsg, UserWarning)\n"
          ]
        },
        {
          "output_type": "stream",
          "name": "stdout",
          "text": [
            "XGBoost Accuracy: 0.9597701149425287\n",
            "              precision    recall  f1-score   support\n",
            "\n",
            "           0       0.96      0.89      0.92       287\n",
            "           1       0.96      0.99      0.97       757\n",
            "\n",
            "    accuracy                           0.96      1044\n",
            "   macro avg       0.96      0.94      0.95      1044\n",
            "weighted avg       0.96      0.96      0.96      1044\n",
            "\n"
          ]
        }
      ]
    },
    {
      "cell_type": "markdown",
      "source": [
        "# ***`📌 Hyperparameter Tuning 🎯 Hyperparameter Tuning for Random Forest`***"
      ],
      "metadata": {
        "id": "oJN5uipVXsLk"
      }
    },
    {
      "cell_type": "code",
      "source": [
        "from sklearn.model_selection import GridSearchCV\n",
        "from sklearn.ensemble import RandomForestClassifier\n",
        "\n",
        "param_grid = {\n",
        "    'n_estimators': [50, 100],  # Reduce values\n",
        "    'max_depth': [5, 10],       # Reduce depth\n",
        "    'min_samples_split': [2, 5]  # Reduce options\n",
        "}\n",
        "\n",
        "# Reduce cv to 3\n",
        "grid = GridSearchCV(RandomForestClassifier(), param_grid, cv=3, scoring='accuracy', n_jobs=-1, verbose=2)\n",
        "grid.fit(X_train, y_train)\n",
        "# Best hyperparameters\n",
        "print(\"Best Parameters:\", grid.best_params_)"
      ],
      "metadata": {
        "colab": {
          "base_uri": "https://localhost:8080/"
        },
        "id": "vM-Vs90aX4Uc",
        "outputId": "3ff7418e-7c75-4b05-e119-f0baccf192cd"
      },
      "execution_count": 9,
      "outputs": [
        {
          "output_type": "stream",
          "name": "stdout",
          "text": [
            "Fitting 3 folds for each of 8 candidates, totalling 24 fits\n",
            "Best Parameters: {'max_depth': 10, 'min_samples_split': 5, 'n_estimators': 100}\n"
          ]
        }
      ]
    },
    {
      "cell_type": "markdown",
      "source": [
        "# ***`📌Save the Best Model`***"
      ],
      "metadata": {
        "id": "KawCaDqCZdGl"
      }
    },
    {
      "cell_type": "code",
      "source": [
        "# Best hyperparameters\n",
        "print(\"Best Parameters:\", grid.best_params_)\n",
        "\n",
        "# Save best model\n",
        "import joblib\n",
        "joblib.dump(grid.best_estimator_, 'optimized_rf_model.pkl')\n",
        "\n",
        "# Load & use model\n",
        "loaded_model = joblib.load('optimized_rf_model.pkl')\n",
        "y_pred = loaded_model.predict(X_test)"
      ],
      "metadata": {
        "colab": {
          "base_uri": "https://localhost:8080/"
        },
        "id": "psG6ScMYZehj",
        "outputId": "ae7a0158-c9bb-41f5-b237-33c39fad364d"
      },
      "execution_count": 10,
      "outputs": [
        {
          "output_type": "stream",
          "name": "stdout",
          "text": [
            "Best Parameters: {'max_depth': 10, 'min_samples_split': 5, 'n_estimators': 100}\n"
          ]
        }
      ]
    },
    {
      "cell_type": "markdown",
      "source": [
        "# ***`📌Load the Model & Predict on New Image`***"
      ],
      "metadata": {
        "id": "mxvabhzcZi5d"
      }
    },
    {
      "cell_type": "code",
      "source": [
        "model = joblib.load(\"optimized_rf_model.pkl\")\n",
        "\n",
        "# Load a new image\n",
        "new_image_path = \"/content/drive/MyDrive/chest_xray/test/NORMAL/IM-0001-0001.jpeg\"\n",
        "\n",
        "# Preprocess the image\n",
        "img = cv2.imread(new_image_path, cv2.IMREAD_GRAYSCALE)\n",
        "img = cv2.resize(img, (128, 128)) / 255.0\n",
        "img = img.flatten().reshape(1, -1)  # Reshape for model\n",
        "\n",
        "# Predict\n",
        "prediction = model.predict(img)\n",
        "print(\"Prediction:\", \"Pneumonia\" if prediction[0] == 1 else \"Normal\")\n"
      ],
      "metadata": {
        "colab": {
          "base_uri": "https://localhost:8080/"
        },
        "id": "Y8EfBFFVZrFG",
        "outputId": "4b6bd49c-c015-4e06-9d2f-7cd835df2efc"
      },
      "execution_count": 12,
      "outputs": [
        {
          "output_type": "stream",
          "name": "stdout",
          "text": [
            "Prediction: Normal\n"
          ]
        }
      ]
    }
  ]
}